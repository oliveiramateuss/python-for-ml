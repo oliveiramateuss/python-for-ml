{
  "nbformat": 4,
  "nbformat_minor": 0,
  "metadata": {
    "colab": {
      "name": "C6 2 Intro to Python.ipynb",
      "provenance": [],
      "private_outputs": true,
      "include_colab_link": true
    },
    "kernelspec": {
      "name": "python3",
      "display_name": "Python 3"
    }
  },
  "cells": [
    {
      "cell_type": "markdown",
      "metadata": {
        "id": "view-in-github",
        "colab_type": "text"
      },
      "source": [
        "<a href=\"https://colab.research.google.com/github/oliveiramateuss/python-for-ml/blob/main/C6_2_Intro_to_Python.ipynb\" target=\"_parent\"><img src=\"https://colab.research.google.com/assets/colab-badge.svg\" alt=\"Open In Colab\"/></a>"
      ]
    },
    {
      "cell_type": "markdown",
      "metadata": {
        "id": "t25oU9WDHR2g"
      },
      "source": [
        "# **Lambda Functions**\n",
        "A lambda function is a small anonymous function.<br>\n",
        "\n",
        "A lambda function can take any number of arguments, but can only have one expression.<br>\n",
        "\n",
        "The syntax is: <br>\n",
        "\n",
        "lambda arguments : expression"
      ]
    },
    {
      "cell_type": "code",
      "metadata": {
        "id": "O3jyk4PYHMpb"
      },
      "source": [
        "#Example of a lambda function\n",
        "x = lambda a : a * 5\n",
        "print(x(5))"
      ],
      "execution_count": null,
      "outputs": []
    },
    {
      "cell_type": "markdown",
      "metadata": {
        "id": "TPYnqO5UJkKA"
      },
      "source": [
        "# **Assignment #1**\n",
        "Create a lambda function that adds 2.5 to the argument"
      ]
    },
    {
      "cell_type": "code",
      "metadata": {
        "id": "HLcxqtocJ5g3"
      },
      "source": [
        ""
      ],
      "execution_count": null,
      "outputs": []
    },
    {
      "cell_type": "markdown",
      "metadata": {
        "id": "n_1sFDJiJ8l9"
      },
      "source": [
        "**Lambda functions can take multiple arguments**"
      ]
    },
    {
      "cell_type": "code",
      "metadata": {
        "id": "QvTPGpXvKJIV"
      },
      "source": [
        "#Example of a lambda function with multiple arguments\n",
        "x = lambda a,b,c : (a * b)/c\n",
        "print(x(1,2,3))"
      ],
      "execution_count": null,
      "outputs": []
    },
    {
      "cell_type": "markdown",
      "metadata": {
        "id": "dsehTZ3gNO14"
      },
      "source": [
        "# **Assignment #2**\n",
        "Create a lambda function that takes 4 arguments and add them together. "
      ]
    },
    {
      "cell_type": "code",
      "metadata": {
        "id": "Q1hMzibNNO_S"
      },
      "source": [
        "#Assignment #2"
      ],
      "execution_count": null,
      "outputs": []
    },
    {
      "cell_type": "markdown",
      "metadata": {
        "id": "VB_MZzbipUK1"
      },
      "source": [
        "# **Filtering**\n",
        "Filter is a Python method filters the given sequence with the help of a function that tests each element in the sequence to be true or not."
      ]
    },
    {
      "cell_type": "code",
      "metadata": {
        "id": "-0oQ29KgpUUs"
      },
      "source": [
        "# function that filters vowels \n",
        "def fun(variable): \n",
        "    letters = ['a', 'e', 'i', 'o', 'u'] \n",
        "    if (variable in letters): \n",
        "        return True\n",
        "    else: \n",
        "        return False"
      ],
      "execution_count": null,
      "outputs": []
    },
    {
      "cell_type": "code",
      "metadata": {
        "id": "qyrUZT32zYFX"
      },
      "source": [
        "# sequence \n",
        "sequence = ['g', 'e', 'e', 'j', 'k', 's', 'p', 'r']\n",
        " \n",
        "#The for loop through the list\n",
        "#If there is a vowel in sequence, add it to the list\n",
        "list1 = []\n",
        "for i in sequence:\n",
        "  if fun(i)==True:\n",
        "    list1.append(i)\n",
        "print(list1)"
      ],
      "execution_count": null,
      "outputs": []
    },
    {
      "cell_type": "code",
      "metadata": {
        "id": "qgsGqhrHpkUm"
      },
      "source": [
        "# using filter function to loop \n",
        "#through the list and if there is a vowel\n",
        "#in sequence, add it to the filter\n",
        "filtered = filter(fun, sequence) \n",
        "\n",
        "for s in filtered: \n",
        "    print(s) "
      ],
      "execution_count": null,
      "outputs": []
    },
    {
      "cell_type": "markdown",
      "metadata": {
        "id": "u5uBnunO0Lbj"
      },
      "source": [
        "**Filter is a data type**\n"
      ]
    },
    {
      "cell_type": "code",
      "metadata": {
        "id": "XPxxANhZ0gqO"
      },
      "source": [
        "type(filtered)"
      ],
      "execution_count": null,
      "outputs": []
    },
    {
      "cell_type": "markdown",
      "metadata": {
        "id": "2Mngfmbn0k0m"
      },
      "source": [
        "# **Assignment #3**\n",
        "Use a Python filter to find find words in a list\n",
        "1. Create a function to determine if a word is contained in a list.\n",
        "2. Use a filter to create a collection of the words in the list.<br><br>\n",
        "\n",
        "The word_list:<br>\n",
        "['lion','giraffe','elephant','wildebeest','zebra','rhino','hippo', 'leopard','hyena']<br>\n",
        "\n",
        "The search words:<br>\n",
        "['cat','lion','zebra','snake','hippo','seal','whale']<br>\n",
        "\n",
        "3. The filter should contain: <br>\n",
        ">lion, zebra, hippo\n",
        "\n"
      ]
    },
    {
      "cell_type": "code",
      "metadata": {
        "id": "jN6G0X922Oyv"
      },
      "source": [
        "#Assignment #3"
      ],
      "execution_count": null,
      "outputs": []
    },
    {
      "cell_type": "markdown",
      "metadata": {
        "id": "I9Hs4ZvQ3nr2"
      },
      "source": [
        "**Filters with Lambda functions**<br>\n",
        "Filters are often used with Lambda functions. "
      ]
    },
    {
      "cell_type": "code",
      "metadata": {
        "id": "ePX5COBE3zUB"
      },
      "source": [
        "# a list containing both even and odd numbers.  \n",
        "seq = [0, 1, 2, 3, 5, 8, 13, 21, 44, 56, 89] \n",
        "  \n",
        "# The filter is for true statements\n",
        "#When x%2=1, this is considered a true statement\n",
        "result_odd = filter(lambda x: x % 2, seq) \n",
        "print(list(result_odd)) \n",
        "  \n",
        "# When the statement is true, the answer is filtered\n",
        "#into result_even\n",
        "result_even = filter(lambda x: x % 2 == 0, seq) \n",
        "print(list(result_even)) \n"
      ],
      "execution_count": null,
      "outputs": []
    },
    {
      "cell_type": "markdown",
      "metadata": {
        "id": "wPRjP7iY-L8X"
      },
      "source": [
        "# **Assignment #4**\n",
        "Given the following list, find all the numbers divisible by 17. <br><br>\n",
        "833,23,17,544,33,119,510,399,49,392,238,153,123,255,1023,493,590,42,600,646,442,19,63,799,323,289\n"
      ]
    },
    {
      "cell_type": "code",
      "metadata": {
        "id": "8eAIFq0B-61t"
      },
      "source": [
        "#Assignment 4"
      ],
      "execution_count": null,
      "outputs": []
    },
    {
      "cell_type": "markdown",
      "metadata": {
        "id": "CQgTe_TL_zYB"
      },
      "source": [
        "# **Assignment #5**\n",
        "Given the list of words, find all the palindromes. <br>\n",
        "Anna, Only mad dogs and Englishmen, otto, book, Eva can I stab bats In A cave, top spot, cat call, Dave, open, The rain in Spain, step on no pets<br><br>\n",
        "\n",
        "Ignore spaces and capital letters. <br>\n",
        "Hint:<br>\n",
        "Google how to reverse a string in Python"
      ]
    },
    {
      "cell_type": "code",
      "metadata": {
        "id": "7kBmlD8VCNyO"
      },
      "source": [
        "#Assignment 5"
      ],
      "execution_count": null,
      "outputs": []
    }
  ]
}