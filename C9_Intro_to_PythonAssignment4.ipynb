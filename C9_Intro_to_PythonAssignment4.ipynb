{
  "nbformat": 4,
  "nbformat_minor": 0,
  "metadata": {
    "colab": {
      "name": "C9 Intro to Python.ipynb",
      "private_outputs": true,
      "provenance": [],
      "include_colab_link": true
    },
    "kernelspec": {
      "name": "python3",
      "display_name": "Python 3"
    }
  },
  "cells": [
    {
      "cell_type": "markdown",
      "metadata": {
        "id": "view-in-github",
        "colab_type": "text"
      },
      "source": [
        "<a href=\"https://colab.research.google.com/github/oliveiramateuss/python-for-ml/blob/main/C9_Intro_to_PythonAssignment4.ipynb\" target=\"_parent\"><img src=\"https://colab.research.google.com/assets/colab-badge.svg\" alt=\"Open In Colab\"/></a>"
      ]
    },
    {
      "cell_type": "markdown",
      "metadata": {
        "id": "NvDQ-2TrMq5g"
      },
      "source": [
        "# **Tuples**\n",
        "A tuple is a sequence of immutable Python objects.<br>\n",
        "Tuples are sequences, just like lists. The differences between tuples and lists are, the tuples cannot be changed.<br>\n",
        "Tuples use parentheses, whereas lists use square brackets."
      ]
    },
    {
      "cell_type": "markdown",
      "metadata": {
        "id": "a02rs-eUNMLC"
      },
      "source": [
        "You can't add elements to a tuple. <br>\n",
        "Tuples have no append or extend method.\n",
        "You can't remove elements from a tuple. Tuples have no remove or pop method.<br>\n",
        "You can find elements in a tuple, since this doesn’t change the tuple.<br>\n",
        "You can also use the in operator to check if an element exists in the tuple."
      ]
    },
    {
      "cell_type": "markdown",
      "metadata": {
        "id": "BCx-9eeaNt0Y"
      },
      "source": [
        "# **Create a Tuple**"
      ]
    },
    {
      "cell_type": "code",
      "metadata": {
        "id": "TTHOaGaeMp0O"
      },
      "source": [
        "#Create a Tuple\n",
        "tuple1 = (\"a\",\"b\",\"c\")\n",
        "print(\"tuple1 = \" ,tuple1)"
      ],
      "execution_count": null,
      "outputs": []
    },
    {
      "cell_type": "markdown",
      "metadata": {
        "id": "jjr7SznJOL5B"
      },
      "source": [
        "**Create an empty tuple**\n"
      ]
    },
    {
      "cell_type": "code",
      "metadata": {
        "id": "gpQltsSpOQmZ"
      },
      "source": [
        "#Create an empty Tuple\n",
        "tuple1 = ()\n",
        "print(\"tuple1 = \" ,tuple1)"
      ],
      "execution_count": null,
      "outputs": []
    },
    {
      "cell_type": "markdown",
      "metadata": {
        "id": "40WuOdjnOteP"
      },
      "source": [
        "# **Assignment #1**\n",
        "Create a Tuple called tp1 with the following elements: \n",
        "<br>CA, IA, IL, NY, VA, NC, SC, ND, SD, NM"
      ]
    },
    {
      "cell_type": "code",
      "metadata": {
        "id": "qbu1--ZKPGiw"
      },
      "source": [
        "#Assignment #1\n",
        "tp1 = ('CA', 'IA', 'IL', 'NY', 'VA', 'NC', 'SC', 'ND', 'SD', 'NM')\n",
        "print(tp1)"
      ],
      "execution_count": null,
      "outputs": []
    },
    {
      "cell_type": "markdown",
      "metadata": {
        "id": "HO61e5FMOrYd"
      },
      "source": [
        "Once a tuple is created, it cannot be changed"
      ]
    },
    {
      "cell_type": "code",
      "metadata": {
        "id": "pHA1QNL1Orib"
      },
      "source": [
        "tup_numb = (3.14, 42)\n",
        "tup_states = ('Iowa', 'Illinoise')\n",
        "tup_states = ('Iowa', 'Illinois')\n",
        "print(tup_states)"
      ],
      "execution_count": null,
      "outputs": []
    },
    {
      "cell_type": "code",
      "metadata": {
        "id": "MMQo0IAgPi69"
      },
      "source": [
        "# New tuples can be created from parts of tuples, or combining tuples\n",
        "tup3 = tup_numb + tup_states\n",
        "print (tup3)"
      ],
      "execution_count": null,
      "outputs": []
    },
    {
      "cell_type": "code",
      "metadata": {
        "id": "U5Q4w7CETsjh"
      },
      "source": [
        "#Tuples have their own type\n",
        "type(tup3)"
      ],
      "execution_count": null,
      "outputs": []
    },
    {
      "cell_type": "markdown",
      "metadata": {
        "id": "OKyPBpIST5cb"
      },
      "source": [
        "**Creating a tuple with one element**<br>\n",
        "When creating a tuple with one element, you must still include the comma."
      ]
    },
    {
      "cell_type": "code",
      "metadata": {
        "id": "LWUo7RZDTzsF"
      },
      "source": [
        "#This will NOT create a tuple \n",
        "tup1 = (\"d\")\n",
        "print(\"This is not a tuple: \",type(tup1))\n",
        "\n",
        "#This will create a tuple \n",
        "tup2 = (\"d\",)\n",
        "print(\"This is a tuple: \",type(tup2))"
      ],
      "execution_count": null,
      "outputs": []
    },
    {
      "cell_type": "markdown",
      "metadata": {
        "id": "lYMmbP9ARRQ7"
      },
      "source": [
        "# **Assignment #2**\n",
        "Create a tuple with 1000 elements. <br>\n",
        "All 1000 elements should be the same. <br>\n",
        "<br>\n",
        "Hint: https://www.tutorialspoint.com/python/python_tuples.htm\n"
      ]
    },
    {
      "cell_type": "code",
      "metadata": {
        "id": "pPEvl_tIQaHR"
      },
      "source": [
        "#Assignment #2\n",
        "tuple1 = ('Python',) *1000\n",
        "print(\"tuple1 = \" ,tuple1)\n",
        "print(\"tuple1 size = \" ,len(tuple1))"
      ],
      "execution_count": null,
      "outputs": []
    },
    {
      "cell_type": "code",
      "metadata": {
        "id": "RPRVDfFsgfZu"
      },
      "source": [
        "el_list = [11]*1000\n",
        "t=tuple(el_list)\n",
        "print(type(t))"
      ],
      "execution_count": null,
      "outputs": []
    },
    {
      "cell_type": "code",
      "metadata": {
        "id": "ysYiArx6hG_0"
      },
      "source": [
        "tup1000 = tuple(1 for i in range(0,1000))\n",
        "print(tup1000)\n",
        "print(type(tup1000))"
      ],
      "execution_count": null,
      "outputs": []
    },
    {
      "cell_type": "code",
      "metadata": {
        "id": "ww8aHnp1hZ4a"
      },
      "source": [
        "\n",
        "tp1 = (\"John Deere\",)\n",
        "print(tp1)\n",
        "\n"
      ],
      "execution_count": null,
      "outputs": []
    },
    {
      "cell_type": "code",
      "metadata": {
        "id": "bphJCqPHhn3i"
      },
      "source": [
        "tp1=(\"2\",)*1000\n",
        "\n",
        "print(tp1)\n",
        "print(len(tp1))\n",
        "print(type(tp1))"
      ],
      "execution_count": null,
      "outputs": []
    },
    {
      "cell_type": "markdown",
      "metadata": {
        "id": "ecCVlM4neJiT"
      },
      "source": [
        "**Checking for membership in the tuple**"
      ]
    },
    {
      "cell_type": "code",
      "metadata": {
        "id": "BN4MZxFUeNK1"
      },
      "source": [
        "new_tup = (1,2,3,4,5,6,7,8,9)\n",
        "#Check for membership in the tuple\n",
        "print(5 in new_tup)"
      ],
      "execution_count": null,
      "outputs": []
    },
    {
      "cell_type": "markdown",
      "metadata": {
        "id": "gVQjpf8iTJ-1"
      },
      "source": [
        "# **Assignment #3**\n",
        "1. Create a tuple with 1000 elements.  All the elements have the value \"John Deere\", execpt  the 500th element, it have a value \"Blue River Tech\". <br>\n",
        "2. Then check that the value \"Blue River\" is actually in the tuple."
      ]
    },
    {
      "cell_type": "code",
      "metadata": {
        "id": "W_BjmQVkesxq"
      },
      "source": [
        "#Assignment #3\n",
        "tl3 = ['John Deere'] * 1000\n",
        "tl3[499] = 'Blue River'\n",
        "\n",
        "tp3 = tuple(tl3)\n",
        "print('Blue River' in tp3)\n",
        "print(tp3)\n",
        "print(type(tp3))"
      ],
      "execution_count": null,
      "outputs": []
    },
    {
      "cell_type": "code",
      "metadata": {
        "id": "55ZTF4xTjLn1"
      },
      "source": [
        "tuple1 = ('John Deere',)\n",
        "tuple2 = ('Blue River Tech',)\n",
        "\n",
        "tuple3 = (tuple1* 499) + tuple2 + (tuple1 * 500 )\n",
        "\n",
        "print(\"tuple3 = \" ,tuple3)\n",
        "print(\"tuple3 500th = \" ,tuple3[499])\n",
        "print(type(tuple2))\n",
        "print(\"tuple3 size = \" ,len(tuple3))"
      ],
      "execution_count": null,
      "outputs": []
    },
    {
      "cell_type": "code",
      "metadata": {
        "id": "a1OY_YMAjZhs"
      },
      "source": [
        "tup3=(\"John Deere\",)*499 + (\"Blue River Tech\",) + (\"John Deere\",)*500\n",
        "print(tup3)\n",
        "print(\"Blue River Tech\" in tup3)"
      ],
      "execution_count": null,
      "outputs": []
    },
    {
      "cell_type": "code",
      "metadata": {
        "id": "PJCWDHHcjqVC"
      },
      "source": [
        "tup_JD = tuple(\"John Deere\" if i != 500 else \"Blue River Tech\" for i in range(1,1001))\n",
        "print(\"Blue River Tech\" in tup_JD)"
      ],
      "execution_count": null,
      "outputs": []
    },
    {
      "cell_type": "code",
      "metadata": {
        "id": "4ZoU_59nj1dL"
      },
      "source": [
        "abcd=[]\n",
        "for i in range(999):\n",
        "  if i==499:\n",
        "    abcd.append('Blue river')\n",
        "  else:\n",
        "    abcd.append('John Deere')\n",
        "abcd=tuple(abcd)\n",
        "print(\"Blue river\" in abcd)"
      ],
      "execution_count": null,
      "outputs": []
    },
    {
      "cell_type": "code",
      "metadata": {
        "id": "38jfBCZmkHPJ"
      },
      "source": [
        "i=0\n",
        "lista=[]\n",
        "while i<999:\n",
        "  lista.append(\"JohnDeere\")\n",
        "  if i==500:\n",
        "    lista.append(\"BlueRiver\")\n",
        "  i=i+1\n",
        "\n",
        "tup1=tuple(lista)\n",
        "print(tup1)\n",
        "print(len(tup1))\n",
        "print(\"BlueRiver\" in tup1)"
      ],
      "execution_count": null,
      "outputs": []
    },
    {
      "cell_type": "markdown",
      "metadata": {
        "id": "s6DMXtENe-ze"
      },
      "source": [
        "# **Assignment #4**\n",
        "1. Create a function that accepts two tuples.\n",
        "2. Add the two tuples together.\n",
        "3. Return the new tuple\n"
      ]
    },
    {
      "cell_type": "code",
      "metadata": {
        "id": "rGY8uS__nAms"
      },
      "source": [
        "def Add2Tuples (tp1, tp2):\n",
        "  localtp = tp1 + tp2\n",
        "  return localtp"
      ],
      "execution_count": null,
      "outputs": []
    },
    {
      "cell_type": "code",
      "metadata": {
        "id": "B7nYUot1fQYq"
      },
      "source": [
        "#Assignment #4\n",
        "\n",
        "tuple1 = ('John Deere',)\n",
        "tuple2 = ('Blue River Tech',)\n",
        "\n",
        "tuple3 = Add2Tuples(tuple1, tuple2)\n",
        "print(\"tuple3 = \" ,tuple3)\n",
        "print(type(tuple3))\n",
        "\n",
        "tuple4 = Add2Tuples(tuple2, tuple2)\n",
        "print(\"tuple4 = \" ,tuple4)\n",
        "print(type(tuple4))"
      ],
      "execution_count": null,
      "outputs": []
    },
    {
      "cell_type": "code",
      "metadata": {
        "id": "vXp6ZRqBnyvx"
      },
      "source": [
        "def func1() :\n",
        "  t1=input(\"write 1st tuple \")\n",
        "  tp1=tuple(t1,)\n",
        "  t2=input(\"write 2nd tuple \")\n",
        "  tp2=tuple(t2,)\n",
        "  t3=tp1+tp2\n",
        "  return (t3)\n",
        "\n",
        "func1()"
      ],
      "execution_count": null,
      "outputs": []
    },
    {
      "cell_type": "code",
      "metadata": {
        "id": "J9UGNXs4nSRh"
      },
      "source": [
        "def add_tuples():\n",
        "  t1=(input(),)\n",
        "  t2=(input(),)\n",
        "  new_tup=t1+t2\n",
        "  return new_tup\n",
        "  \n",
        "add_tuples()"
      ],
      "execution_count": null,
      "outputs": []
    },
    {
      "cell_type": "code",
      "metadata": {
        "id": "9bPNAvpZpiP3"
      },
      "source": [
        "def func1():\n",
        "  t1=input('write 1st input')\n",
        "  t2=input('write 2nd input')\n",
        "  tp1=(t1,)\n",
        "  tp2=(t2,)\n",
        "  t3 =tp1+tp2\n",
        "  return t3\n",
        "t=func1()\n",
        "print(type(t))"
      ],
      "execution_count": null,
      "outputs": []
    },
    {
      "cell_type": "markdown",
      "metadata": {
        "id": "5tOie06UgUBC"
      },
      "source": [
        "# **Assignment #5**\n",
        "1. Create a function accepts a tuple and an integer. \n",
        "2. Within the function, check that the integer is is less than or equal to the length of the tuple. \n",
        "3. If it is, change the value at that integer position to \"CHANGED\". \n",
        "4. If the integer is greater than the length of the tuple, print \"Error: exceeds length\"\n",
        "5. Return the tuple (changed or unchanged)"
      ]
    },
    {
      "cell_type": "code",
      "metadata": {
        "id": "VJ6EwAg5hfMX"
      },
      "source": [
        "#Assignment #5"
      ],
      "execution_count": null,
      "outputs": []
    }
  ]
}