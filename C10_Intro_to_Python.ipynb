{
  "nbformat": 4,
  "nbformat_minor": 0,
  "metadata": {
    "colab": {
      "name": "C10 Intro to Python.ipynb",
      "private_outputs": true,
      "provenance": [],
      "include_colab_link": true
    },
    "kernelspec": {
      "name": "python3",
      "display_name": "Python 3"
    }
  },
  "cells": [
    {
      "cell_type": "markdown",
      "metadata": {
        "id": "view-in-github",
        "colab_type": "text"
      },
      "source": [
        "<a href=\"https://colab.research.google.com/github/oliveiramateuss/python-for-ml/blob/main/C10_Intro_to_Python.ipynb\" target=\"_parent\"><img src=\"https://colab.research.google.com/assets/colab-badge.svg\" alt=\"Open In Colab\"/></a>"
      ]
    },
    {
      "cell_type": "markdown",
      "metadata": {
        "id": "I4CnEl6niUkn"
      },
      "source": [
        "# **Python Dictionaries**\n",
        "A dictionary is used to map or associate things you want to store the keys you need to get them. A dictionary in Python is just like a dictionary in the real world. \n",
        "\n",
        "<br>Python Dictionary are defined into two elements Keys and Values.\n",
        "\n",
        "Keys will be a single element<br>\n",
        "Values can be any Python datatype<br>"
      ]
    },
    {
      "cell_type": "markdown",
      "metadata": {
        "id": "W9PISo2bzq7z"
      },
      "source": [
        "# **To create a dictionary** <br>\n",
        "dictionary-name = {key:value, key:value, ...., key:value}<br>\n",
        "<br>\n",
        "More commonly it is written as: <br>\n",
        "d = {\n",
        " >   key: value,<br>\n",
        "    key: value,<br>\n",
        "      .<br>\n",
        "      .<br>\n",
        "      .<br>\n",
        "    key: value<br>\n",
        " }<br>"
      ]
    },
    {
      "cell_type": "code",
      "metadata": {
        "id": "h8jC0dKOiQgW"
      },
      "source": [
        "released = {\n",
        "\t\t\"iphone\" : 2007,\n",
        "\t\t\"iphone 3G\" : 2008,\n",
        "\t\t\"iphone 3GS\" : 2009,\n",
        "\t\t\"iphone 4\" : 2010,\n",
        "\t\t\"iphone 4S\" : 2011,\n",
        "\t\t\"iphone 5\" : 2012\n",
        "\t}\n",
        "print (released)"
      ],
      "execution_count": null,
      "outputs": []
    },
    {
      "cell_type": "code",
      "metadata": {
        "id": "j2zCemowzM6W"
      },
      "source": [
        "#Print the keys for the dictionary\n",
        "print (released.keys())"
      ],
      "execution_count": null,
      "outputs": []
    },
    {
      "cell_type": "code",
      "metadata": {
        "id": "4K9Cx5xbzl3J"
      },
      "source": [
        "#Print the values for the dictionary\n",
        "print (released.values())"
      ],
      "execution_count": null,
      "outputs": []
    },
    {
      "cell_type": "markdown",
      "metadata": {
        "id": "X_2W2jlB0VWV"
      },
      "source": [
        "**Assignment #1**<br>\n",
        ">Create a dictionary called MLB_team.<br>\n",
        "Pick 10 teams from the list. <br>\n",
        "Use the city or state name as the key<br>\n",
        "Use the team name as the value<br>\n",
        "\n",
        "Use the following information: <br>\n",
        "\n",
        "**National League**<br>\n",
        "\n",
        "East<br>\n",
        "\n",
        ">Atlanta Braves<br>\n",
        "Miami Marlins<br>\n",
        "New York Mets<br>\n",
        "Philadelphia Phillies<br>\n",
        "Washington Nationals<br>\n",
        "Central<br>\n",
        "Chicago Cubs<br>\n",
        "Cincinnati Reds<br>\n",
        "Milwaukee Brewers<br>\n",
        "Pittsburgh Pirates<br>\n",
        "St. Louis Cardinals<br>\n",
        "\n",
        "West<br>\n",
        ">Arizona Diamondbacks<br>\n",
        "Colorado Rockies<br>\n",
        "Los Angeles Dodgers<br>\n",
        "San Diego Padres<br>\n",
        "San Francisco Giants<br>\n",
        "\n",
        "**American League**<br>\n",
        "\n",
        "East<br>\n",
        ">Baltimore Orioles<br>\n",
        "Boston Red Sox<br>\n",
        "New York Yankees<br>\n",
        "Tampa Bay Rays<br>\n",
        "Toronto Blue Jays<br>\n",
        "\n",
        "Central<br>\n",
        ">Chicago White Sox<br>\n",
        "Cleveland Indians<br>\n",
        "Detroit Tigers<br>\n",
        "Kansas City Royals<br>\n",
        "Minnesota Twins<br>\n",
        "\n",
        "West<br>\n",
        ">Houston Astros<br>\n",
        "Los Angeles Angels<br>\n",
        "Oakland Athletics<br>\n",
        "Seattle Mariners<br>\n",
        "Texas Rangers<br>"
      ]
    },
    {
      "cell_type": "code",
      "metadata": {
        "id": "Mql7uCHq0X52"
      },
      "source": [
        "#Assignment #1\n"
      ],
      "execution_count": null,
      "outputs": []
    },
    {
      "cell_type": "markdown",
      "metadata": {
        "id": "uUR7IZUHlETn"
      },
      "source": [
        "Print a specific value of a dictionary<br>\n",
        ">print(dictiionary_name[\"key\"]"
      ]
    },
    {
      "cell_type": "code",
      "metadata": {
        "id": "wSQyCNOvltuM"
      },
      "source": [
        "#Print the values for the dictionary\n",
        "print (released[\"iphone\"])"
      ],
      "execution_count": null,
      "outputs": []
    },
    {
      "cell_type": "markdown",
      "metadata": {
        "id": "O5PYpQB_mEMb"
      },
      "source": [
        "As of Python version 3.7, dictionaries are ordered.<br>\n",
        "In Python 3.6 and earlier, dictionaries are unordered.<br>\n",
        "\n",
        "Odered dictionaries means that the items have a defined order, and that order will not change.<br>\n",
        "\n",
        "Unordered means that the items do not have a defined order, you cannot refer to an item by using an index.<br>"
      ]
    },
    {
      "cell_type": "markdown",
      "metadata": {
        "id": "q_ICq4JPmp47"
      },
      "source": [
        "### **Dictionaries cannot have two items with the same key**"
      ]
    },
    {
      "cell_type": "markdown",
      "metadata": {
        "id": "fT8xQhUq3PHG"
      },
      "source": [
        "**Assignment #2**\n",
        "What happens when two or more entries have the same key value? \n",
        "<br>\n",
        "Write code to check your answer."
      ]
    },
    {
      "cell_type": "code",
      "metadata": {
        "id": "-K-iKAzf3PVn"
      },
      "source": [
        "#Assignment #2"
      ],
      "execution_count": null,
      "outputs": []
    },
    {
      "cell_type": "code",
      "metadata": {
        "id": "UvFd6t89m9Ki",
        "cellView": "form"
      },
      "source": [
        "#@title \n",
        "carListing = {\n",
        "  \"brand\": \"Ford\",\n",
        "  \"model\": \"Bronco\",\n",
        "  \"year\": 1975,\n",
        "  \"year\": 2021\n",
        "}\n",
        "print(carListing)"
      ],
      "execution_count": null,
      "outputs": []
    },
    {
      "cell_type": "markdown",
      "metadata": {
        "id": "Gs17l6-qz_Qi"
      },
      "source": [
        "#**Sort the dictionary by key or value using a 'for' loop**"
      ]
    },
    {
      "cell_type": "code",
      "metadata": {
        "id": "z80m__r2z_Y4"
      },
      "source": [
        "for key, value in sorted(released.items()):\n",
        "    print (key, value)"
      ],
      "execution_count": null,
      "outputs": []
    },
    {
      "cell_type": "code",
      "metadata": {
        "id": "vOe1CGdL0KJM"
      },
      "source": [
        "for value, key in sorted(released.items()):\n",
        "    print (key, value)"
      ],
      "execution_count": null,
      "outputs": []
    },
    {
      "cell_type": "markdown",
      "metadata": {
        "id": "ZtqFAiN0CqU4"
      },
      "source": [
        "**Assignment #3**<br>\n",
        "Create a dictionary of the MLB teams listed above. <br>\n",
        "Then create a function that sorts the dictionary by value or key<br>"
      ]
    },
    {
      "cell_type": "code",
      "metadata": {
        "id": "NNJuwznqENTw"
      },
      "source": [
        "#Assignment 3"
      ],
      "execution_count": null,
      "outputs": []
    },
    {
      "cell_type": "markdown",
      "metadata": {
        "id": "4pjbNjVo3gXe"
      },
      "source": [
        "#**Accessing Dictionary elements**<br>\n",
        "Dictionary elements are not accessed by their index. <br>\n",
        "Dictionary elements are accessed by their key. <br>"
      ]
    },
    {
      "cell_type": "code",
      "metadata": {
        "id": "cm9i97Tg3giz"
      },
      "source": [
        "#Access the element by its key\n",
        "released['iphone 5']"
      ],
      "execution_count": null,
      "outputs": []
    },
    {
      "cell_type": "markdown",
      "metadata": {
        "id": "7h3eloiHDWoO"
      },
      "source": [
        "**Assignment #4**<br>\n",
        "\n",
        "Using the dictionary you made called MLB_team,\n",
        "1. Sort it by key.\n",
        "2. Ask a user to input a location<br>\n",
        "3. Use a function to find the team associated with that location. "
      ]
    },
    {
      "cell_type": "code",
      "metadata": {
        "id": "vTgZj9IGDWx1"
      },
      "source": [
        "#Assignment #4"
      ],
      "execution_count": null,
      "outputs": []
    },
    {
      "cell_type": "markdown",
      "metadata": {
        "id": "nADVdGW1AmU6"
      },
      "source": [
        "Note: <br>\n",
        "Although access to items in a dictionary does not depend on order, <br>**Python guarantees that the order of items in a <br>dictionary is preserved**.<br> When displayed, items will appear in the order they were defined, and iteration <br>through the keys will occur in that order as well.<br> **Items added to a dictionary are added at the end**. <br>If items are deleted, the order of the remaining items is retained."
      ]
    },
    {
      "cell_type": "markdown",
      "metadata": {
        "id": "kKHh16LuEGaF"
      },
      "source": [
        "#**Adding to the dictionary**<br>\n",
        "Add to a dictionary by just assigning a new key and value. <br>\n",
        "For example:<br>\n",
        "MLB_team[key] = value"
      ]
    },
    {
      "cell_type": "markdown",
      "metadata": {
        "id": "81q0qOQrD7ot"
      },
      "source": [
        "**Assignment #5**<br>\n",
        "Create a program that asks users for their favorite MLB teams. <br> \n",
        "Add the favorites to a dictionary<br>\n",
        "Use the order of entry as the key.<br>\n",
        "For example: <br>\n",
        "User enters Athletics, Angels, Giants, Padres<br>\n",
        "The key for Athletics will be 1<br>\n",
        "The key for Angels will be 2<br>\n",
        "The key for Giants will be 3<br>\n",
        "The key for Padres will be 4\n",
        "\n"
      ]
    },
    {
      "cell_type": "code",
      "metadata": {
        "id": "_BmVY1FAAw6Y"
      },
      "source": [
        "#Assignment #5"
      ],
      "execution_count": null,
      "outputs": []
    },
    {
      "cell_type": "markdown",
      "metadata": {
        "id": "s4Ef82g6iuKa"
      },
      "source": [
        "# **Built-in Functions**"
      ]
    },
    {
      "cell_type": "code",
      "metadata": {
        "id": "DaiptlB1iuot"
      },
      "source": [
        "#create a dictionary\n",
        "my_dictionary = {'dog':1, 'cat':2, 'rabbit':3, 'fish':4, 'hampster':5}\n",
        "my_dictionary"
      ],
      "execution_count": null,
      "outputs": []
    },
    {
      "cell_type": "code",
      "metadata": {
        "id": "u1O1gOnlpNIL"
      },
      "source": [
        "#empty a dictionary of all key, value pairs\n",
        "print(my_dictionary)\n",
        "my_dictionary.clear()\n",
        "print(my_dictionary)"
      ],
      "execution_count": null,
      "outputs": []
    },
    {
      "cell_type": "markdown",
      "metadata": {
        "id": "fM8Hh9Guprl9"
      },
      "source": [
        "**Assignment 6**<br>\n",
        ">create a dictionary by asking the user to enter values and keys<br>\n",
        ">ask the user to enter a key to remove, then remove it<br>\n",
        ">ask the user to enter a key-value pair to remove, then remove it<br>\n"
      ]
    },
    {
      "cell_type": "code",
      "metadata": {
        "id": "xF-hTKl7ph_M"
      },
      "source": [
        ""
      ],
      "execution_count": null,
      "outputs": []
    },
    {
      "cell_type": "markdown",
      "metadata": {
        "id": "7es8D0kLqpmG"
      },
      "source": [
        "**Assignment 7**<br>\n",
        "Create two dictionaries, d1 and d2<br>\n",
        "Combine them into d1<br>\n",
        "\n",
        "*Hint: use the update function*"
      ]
    },
    {
      "cell_type": "code",
      "metadata": {
        "id": "Lv8Kjw8HrCr4"
      },
      "source": [
        "#Assignment 7"
      ],
      "execution_count": null,
      "outputs": []
    }
  ]
}