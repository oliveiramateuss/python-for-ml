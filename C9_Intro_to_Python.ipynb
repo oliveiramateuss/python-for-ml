{
  "nbformat": 4,
  "nbformat_minor": 0,
  "metadata": {
    "colab": {
      "name": "C9 Intro to Python.ipynb",
      "provenance": [],
      "private_outputs": true,
      "include_colab_link": true
    },
    "kernelspec": {
      "name": "python3",
      "display_name": "Python 3"
    }
  },
  "cells": [
    {
      "cell_type": "markdown",
      "metadata": {
        "id": "view-in-github",
        "colab_type": "text"
      },
      "source": [
        "<a href=\"https://colab.research.google.com/github/oliveiramateuss/python-for-ml/blob/main/C9_Intro_to_Python.ipynb\" target=\"_parent\"><img src=\"https://colab.research.google.com/assets/colab-badge.svg\" alt=\"Open In Colab\"/></a>"
      ]
    },
    {
      "cell_type": "markdown",
      "metadata": {
        "id": "NvDQ-2TrMq5g"
      },
      "source": [
        "# **Tuples**\n",
        "A tuple is a sequence of immutable Python objects.<br>\n",
        "Tuples are sequences, just like lists. The differences between tuples and lists are, the tuples cannot be changed.<br>\n",
        "Tuples use parentheses, whereas lists use square brackets."
      ]
    },
    {
      "cell_type": "markdown",
      "metadata": {
        "id": "a02rs-eUNMLC"
      },
      "source": [
        "You can't add elements to a tuple. <br>\n",
        "Tuples have no append or extend method.\n",
        "You can't remove elements from a tuple. Tuples have no remove or pop method.<br>\n",
        "You can find elements in a tuple, since this doesn’t change the tuple.<br>\n",
        "You can also use the in operator to check if an element exists in the tuple."
      ]
    },
    {
      "cell_type": "markdown",
      "metadata": {
        "id": "BCx-9eeaNt0Y"
      },
      "source": [
        "# **Create a Tuple**"
      ]
    },
    {
      "cell_type": "code",
      "metadata": {
        "id": "TTHOaGaeMp0O"
      },
      "source": [
        "#Create a Tuple\n",
        "tuple1 = (\"a\",\"b\",\"c\")\n",
        "print(\"tuple1 = \" ,tuple1)"
      ],
      "execution_count": null,
      "outputs": []
    },
    {
      "cell_type": "markdown",
      "metadata": {
        "id": "jjr7SznJOL5B"
      },
      "source": [
        "**Create an empty tuple**\n"
      ]
    },
    {
      "cell_type": "code",
      "metadata": {
        "id": "gpQltsSpOQmZ"
      },
      "source": [
        "#Create an empty Tuple\n",
        "tuple1 = ()\n",
        "print(\"tuple1 = \" ,tuple1)"
      ],
      "execution_count": null,
      "outputs": []
    },
    {
      "cell_type": "markdown",
      "metadata": {
        "id": "40WuOdjnOteP"
      },
      "source": [
        "# **Assignment #1**\n",
        "Create a Tuple called tp1 with the following elements: \n",
        "<br>CA, IA, IL, NY, VA, NC, SC, ND, SD, NM"
      ]
    },
    {
      "cell_type": "code",
      "metadata": {
        "id": "qbu1--ZKPGiw"
      },
      "source": [
        "#Assignment #1"
      ],
      "execution_count": null,
      "outputs": []
    },
    {
      "cell_type": "markdown",
      "metadata": {
        "id": "HO61e5FMOrYd"
      },
      "source": [
        "Once a tuple is created, it cannot be changed"
      ]
    },
    {
      "cell_type": "code",
      "metadata": {
        "id": "pHA1QNL1Orib"
      },
      "source": [
        "tup_numb = (3.14, 42)\n",
        "tup_states = ('Iowa', 'Illinoise')\n",
        "\n",
        "# Following action is not valid for tuples\n",
        "tup_states[1] = \"Illinois\";"
      ],
      "execution_count": null,
      "outputs": []
    },
    {
      "cell_type": "code",
      "metadata": {
        "id": "MMQo0IAgPi69"
      },
      "source": [
        "# New tuples can be created from parts of tuples, or combining tuples\n",
        "tup3 = tup_numb + tup_states\n",
        "print (tup3)"
      ],
      "execution_count": null,
      "outputs": []
    },
    {
      "cell_type": "code",
      "metadata": {
        "id": "U5Q4w7CETsjh"
      },
      "source": [
        "#Tuples have their own type\n",
        "type(tup3)"
      ],
      "execution_count": null,
      "outputs": []
    },
    {
      "cell_type": "markdown",
      "metadata": {
        "id": "OKyPBpIST5cb"
      },
      "source": [
        "**Creating a tuple with one element**<br>\n",
        "When creating a tuple with one element, you must still include the comma."
      ]
    },
    {
      "cell_type": "code",
      "metadata": {
        "id": "LWUo7RZDTzsF"
      },
      "source": [
        "#This will NOT create a tuple \n",
        "tup1 = (\"d\")\n",
        "print(\"This is not a tuple: \",type(tup1))\n",
        "\n",
        "#This will create a tuple \n",
        "tup2 = (\"d\",)\n",
        "print(\"This is a tuple: \",type(tup2))"
      ],
      "execution_count": null,
      "outputs": []
    },
    {
      "cell_type": "markdown",
      "metadata": {
        "id": "lYMmbP9ARRQ7"
      },
      "source": [
        "# **Assignment #2**\n",
        "Create a tuple with 1000 elements. <br>\n",
        "All 1000 elements should be the same. <br>\n",
        "<br>\n",
        "Hint: https://www.tutorialspoint.com/python/python_tuples.htm\n"
      ]
    },
    {
      "cell_type": "code",
      "metadata": {
        "id": "pPEvl_tIQaHR"
      },
      "source": [
        "Assignment #2"
      ],
      "execution_count": null,
      "outputs": []
    },
    {
      "cell_type": "markdown",
      "metadata": {
        "id": "ecCVlM4neJiT"
      },
      "source": [
        "**Checking for membership in the tuple**"
      ]
    },
    {
      "cell_type": "code",
      "metadata": {
        "id": "BN4MZxFUeNK1"
      },
      "source": [
        "new_tup = (1,2,3,4,5,6,7,8,9)\n",
        "#Check for membership in the tuple\n",
        "print(5 in new_tup)"
      ],
      "execution_count": null,
      "outputs": []
    },
    {
      "cell_type": "markdown",
      "metadata": {
        "id": "gVQjpf8iTJ-1"
      },
      "source": [
        "# **Assignment #3**\n",
        "1. Create a tuple with 1000 elements.  All the elements have the value \"John Deere\", execpt  the 500th element, it have a value \"Blue River Tech\". <br>\n",
        "2. Then check that the value \"Blue River\" is actually in the tuple."
      ]
    },
    {
      "cell_type": "code",
      "metadata": {
        "id": "W_BjmQVkesxq"
      },
      "source": [
        "#Assignment #3"
      ],
      "execution_count": null,
      "outputs": []
    },
    {
      "cell_type": "markdown",
      "metadata": {
        "id": "s6DMXtENe-ze"
      },
      "source": [
        "# **Assignment #4**\n",
        "1. Create a function that accepts two tuples.\n",
        "2. Add the two tuples together.\n",
        "3. Return the new tuple\n"
      ]
    },
    {
      "cell_type": "code",
      "metadata": {
        "id": "B7nYUot1fQYq"
      },
      "source": [
        "#Assignment #4"
      ],
      "execution_count": null,
      "outputs": []
    },
    {
      "cell_type": "markdown",
      "metadata": {
        "id": "5tOie06UgUBC"
      },
      "source": [
        "# **Assignment #5**\n",
        "1. Create a function accepts a tuple and an integer. \n",
        "2. Within the function, check that the integer is is less than or equal to the length of the tuple. \n",
        "3. If it is, change the value at that integer position to \"CHANGED\". \n",
        "4. If the integer is greater than the length of the tuple, print \"Error: exceeds length\"\n",
        "5. Return the tuple (changed or unchanged)"
      ]
    },
    {
      "cell_type": "code",
      "metadata": {
        "id": "VJ6EwAg5hfMX"
      },
      "source": [
        "#Assignment #5"
      ],
      "execution_count": null,
      "outputs": []
    }
  ]
}