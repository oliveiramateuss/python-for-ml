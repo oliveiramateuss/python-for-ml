{
 "cells": [
  {
   "cell_type": "markdown",
   "metadata": {
    "colab_type": "text",
    "id": "view-in-github"
   },
   "source": [
    "<a href=\"https://colab.research.google.com/github/oliveiramateuss/python-for-ml/blob/main/C9_Intro_to_Python.ipynb\" target=\"_parent\"><img src=\"https://colab.research.google.com/assets/colab-badge.svg\" alt=\"Open In Colab\"/></a>"
   ]
  },
  {
   "cell_type": "markdown",
   "metadata": {
    "id": "NvDQ-2TrMq5g"
   },
   "source": [
    "# **Tuples**\n",
    "A tuple is a sequence of immutable Python objects.<br>\n",
    "Tuples are sequences, just like lists. The differences between tuples and lists are, the tuples cannot be changed.<br>\n",
    "Tuples use parentheses, whereas lists use square brackets."
   ]
  },
  {
   "cell_type": "markdown",
   "metadata": {
    "id": "a02rs-eUNMLC"
   },
   "source": [
    "You can't add elements to a tuple. <br>\n",
    "Tuples have no append or extend method.\n",
    "You can't remove elements from a tuple. Tuples have no remove or pop method.<br>\n",
    "You can find elements in a tuple, since this doesn’t change the tuple.<br>\n",
    "You can also use the in operator to check if an element exists in the tuple."
   ]
  },
  {
   "cell_type": "markdown",
   "metadata": {
    "id": "BCx-9eeaNt0Y"
   },
   "source": [
    "# **Create a Tuple**"
   ]
  },
  {
   "cell_type": "code",
   "execution_count": 1,
   "metadata": {
    "id": "TTHOaGaeMp0O"
   },
   "outputs": [
    {
     "name": "stdout",
     "output_type": "stream",
     "text": [
      "tuple1 =  ('a', 'b', 'c')\n"
     ]
    }
   ],
   "source": [
    "#Create a Tuple\n",
    "tuple1 = (\"a\",\"b\",\"c\")\n",
    "print(\"tuple1 = \" ,tuple1)"
   ]
  },
  {
   "cell_type": "markdown",
   "metadata": {
    "id": "jjr7SznJOL5B"
   },
   "source": [
    "**Create an empty tuple**\n"
   ]
  },
  {
   "cell_type": "code",
   "execution_count": 2,
   "metadata": {
    "id": "gpQltsSpOQmZ"
   },
   "outputs": [
    {
     "name": "stdout",
     "output_type": "stream",
     "text": [
      "tuple1 =  ()\n"
     ]
    }
   ],
   "source": [
    "#Create an empty Tuple\n",
    "tuple1 = ()\n",
    "print(\"tuple1 = \" ,tuple1)"
   ]
  },
  {
   "cell_type": "markdown",
   "metadata": {
    "id": "40WuOdjnOteP"
   },
   "source": [
    "# **Assignment #1**\n",
    "Create a Tuple called tp1 with the following elements: \n",
    "<br>CA, IA, IL, NY, VA, NC, SC, ND, SD, NM"
   ]
  },
  {
   "cell_type": "code",
   "execution_count": 3,
   "metadata": {
    "id": "qbu1--ZKPGiw"
   },
   "outputs": [],
   "source": [
    "tp1 = ('CA', 'IA', 'IL', 'NY', 'VA', 'NC', 'SC', 'ND', 'SD', 'NM')"
   ]
  },
  {
   "cell_type": "markdown",
   "metadata": {
    "id": "HO61e5FMOrYd"
   },
   "source": [
    "Once a tuple is created, it cannot be changed"
   ]
  },
  {
   "cell_type": "code",
   "execution_count": 4,
   "metadata": {
    "id": "pHA1QNL1Orib"
   },
   "outputs": [
    {
     "ename": "TypeError",
     "evalue": "'tuple' object does not support item assignment",
     "output_type": "error",
     "traceback": [
      "\u001b[1;31m---------------------------------------------------------------------------\u001b[0m",
      "\u001b[1;31mTypeError\u001b[0m                                 Traceback (most recent call last)",
      "\u001b[1;32m~\\AppData\\Local\\Temp/ipykernel_18148/3953550320.py\u001b[0m in \u001b[0;36m<module>\u001b[1;34m\u001b[0m\n\u001b[0;32m      3\u001b[0m \u001b[1;33m\u001b[0m\u001b[0m\n\u001b[0;32m      4\u001b[0m \u001b[1;31m# Following action is not valid for tuples\u001b[0m\u001b[1;33m\u001b[0m\u001b[1;33m\u001b[0m\u001b[0m\n\u001b[1;32m----> 5\u001b[1;33m \u001b[0mtup_states\u001b[0m\u001b[1;33m[\u001b[0m\u001b[1;36m1\u001b[0m\u001b[1;33m]\u001b[0m \u001b[1;33m=\u001b[0m \u001b[1;34m\"Illinois\"\u001b[0m\u001b[1;33m;\u001b[0m\u001b[1;33m\u001b[0m\u001b[1;33m\u001b[0m\u001b[0m\n\u001b[0m",
      "\u001b[1;31mTypeError\u001b[0m: 'tuple' object does not support item assignment"
     ]
    }
   ],
   "source": [
    "tup_numb = (3.14, 42)\n",
    "tup_states = ('Iowa', 'Illinoise')\n",
    "\n",
    "# Following action is not valid for tuples\n",
    "tup_states[1] = \"Illinois\";"
   ]
  },
  {
   "cell_type": "code",
   "execution_count": 5,
   "metadata": {
    "id": "MMQo0IAgPi69"
   },
   "outputs": [
    {
     "name": "stdout",
     "output_type": "stream",
     "text": [
      "(3.14, 42, 'Iowa', 'Illinoise')\n"
     ]
    }
   ],
   "source": [
    "# New tuples can be created from parts of tuples, or combining tuples\n",
    "tup3 = tup_numb + tup_states\n",
    "print (tup3)"
   ]
  },
  {
   "cell_type": "code",
   "execution_count": 6,
   "metadata": {
    "id": "U5Q4w7CETsjh"
   },
   "outputs": [
    {
     "data": {
      "text/plain": [
       "tuple"
      ]
     },
     "execution_count": 6,
     "metadata": {},
     "output_type": "execute_result"
    }
   ],
   "source": [
    "#Tuples have their own type\n",
    "type(tup3)"
   ]
  },
  {
   "cell_type": "markdown",
   "metadata": {
    "id": "OKyPBpIST5cb"
   },
   "source": [
    "**Creating a tuple with one element**<br>\n",
    "When creating a tuple with one element, you must still include the comma."
   ]
  },
  {
   "cell_type": "code",
   "execution_count": 7,
   "metadata": {
    "id": "LWUo7RZDTzsF"
   },
   "outputs": [
    {
     "name": "stdout",
     "output_type": "stream",
     "text": [
      "This is not a tuple:  <class 'str'>\n",
      "This is a tuple:  <class 'tuple'>\n"
     ]
    }
   ],
   "source": [
    "#This will NOT create a tuple \n",
    "tup1 = (\"d\")\n",
    "print(\"This is not a tuple: \",type(tup1))\n",
    "\n",
    "#This will create a tuple \n",
    "tup2 = (\"d\",)\n",
    "print(\"This is a tuple: \",type(tup2))"
   ]
  },
  {
   "cell_type": "markdown",
   "metadata": {
    "id": "lYMmbP9ARRQ7"
   },
   "source": [
    "# **Assignment #2**\n",
    "Create a tuple with 1000 elements. <br>\n",
    "All 1000 elements should be the same. <br>\n",
    "<br>\n",
    "Hint: https://www.tutorialspoint.com/python/python_tuples.htm\n"
   ]
  },
  {
   "cell_type": "code",
   "execution_count": null,
   "metadata": {
    "id": "pPEvl_tIQaHR"
   },
   "outputs": [],
   "source": [
    "Assignment #2"
   ]
  },
  {
   "cell_type": "markdown",
   "metadata": {
    "id": "ecCVlM4neJiT"
   },
   "source": [
    "**Checking for membership in the tuple**"
   ]
  },
  {
   "cell_type": "code",
   "execution_count": null,
   "metadata": {
    "id": "BN4MZxFUeNK1"
   },
   "outputs": [],
   "source": [
    "new_tup = (1,2,3,4,5,6,7,8,9)\n",
    "#Check for membership in the tuple\n",
    "print(5 in new_tup)"
   ]
  },
  {
   "cell_type": "markdown",
   "metadata": {
    "id": "gVQjpf8iTJ-1"
   },
   "source": [
    "# **Assignment #3**\n",
    "1. Create a tuple with 1000 elements.  All the elements have the value \"John Deere\", execpt  the 500th element, it have a value \"Blue River Tech\". <br>\n",
    "2. Then check that the value \"Blue River\" is actually in the tuple."
   ]
  },
  {
   "cell_type": "code",
   "execution_count": null,
   "metadata": {
    "id": "W_BjmQVkesxq"
   },
   "outputs": [],
   "source": [
    "#Assignment #3"
   ]
  },
  {
   "cell_type": "markdown",
   "metadata": {
    "id": "s6DMXtENe-ze"
   },
   "source": [
    "# **Assignment #4**\n",
    "1. Create a function that accepts two tuples.\n",
    "2. Add the two tuples together.\n",
    "3. Return the new tuple\n"
   ]
  },
  {
   "cell_type": "code",
   "execution_count": null,
   "metadata": {
    "id": "B7nYUot1fQYq"
   },
   "outputs": [],
   "source": [
    "#Assignment #4"
   ]
  },
  {
   "cell_type": "markdown",
   "metadata": {
    "id": "5tOie06UgUBC"
   },
   "source": [
    "# **Assignment #5**\n",
    "1. Create a function accepts a tuple and an integer. \n",
    "2. Within the function, check that the integer is is less than or equal to the length of the tuple. \n",
    "3. If it is, change the value at that integer position to \"CHANGED\". \n",
    "4. If the integer is greater than the length of the tuple, print \"Error: exceeds length\"\n",
    "5. Return the tuple (changed or unchanged)"
   ]
  },
  {
   "cell_type": "code",
   "execution_count": null,
   "metadata": {
    "id": "VJ6EwAg5hfMX"
   },
   "outputs": [],
   "source": [
    "#Assignment #5"
   ]
  }
 ],
 "metadata": {
  "colab": {
   "include_colab_link": true,
   "name": "C9 Intro to Python.ipynb",
   "private_outputs": true,
   "provenance": []
  },
  "kernelspec": {
   "display_name": "Python 3 (ipykernel)",
   "language": "python",
   "name": "python3"
  },
  "language_info": {
   "codemirror_mode": {
    "name": "ipython",
    "version": 3
   },
   "file_extension": ".py",
   "mimetype": "text/x-python",
   "name": "python",
   "nbconvert_exporter": "python",
   "pygments_lexer": "ipython3",
   "version": "3.10.0"
  }
 },
 "nbformat": 4,
 "nbformat_minor": 1
}
